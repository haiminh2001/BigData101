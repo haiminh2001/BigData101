{
 "cells": [
  {
   "cell_type": "code",
   "execution_count": 6,
   "metadata": {
    "executionInfo": {
     "elapsed": 38251,
     "status": "ok",
     "timestamp": 1658669396489,
     "user": {
      "displayName": "Lâm Đỗ",
      "userId": "18103864874454458300"
     },
     "user_tz": -420
    },
    "id": "PJ7uYZ68Xf4A"
   },
   "outputs": [
    {
     "name": "stdout",
     "output_type": "stream",
     "text": [
      "Requirement already satisfied: wordcloud in /opt/conda/lib/python3.10/site-packages (1.8.2.2)\n",
      "Requirement already satisfied: numpy>=1.6.1 in /opt/conda/lib/python3.10/site-packages (from wordcloud) (1.22.4)\n",
      "Requirement already satisfied: matplotlib in /opt/conda/lib/python3.10/site-packages (from wordcloud) (3.5.2)\n",
      "Requirement already satisfied: pillow in /opt/conda/lib/python3.10/site-packages (from wordcloud) (9.2.0)\n",
      "Requirement already satisfied: packaging>=20.0 in /opt/conda/lib/python3.10/site-packages (from matplotlib->wordcloud) (21.3)\n",
      "Requirement already satisfied: kiwisolver>=1.0.1 in /opt/conda/lib/python3.10/site-packages (from matplotlib->wordcloud) (1.4.3)\n",
      "Requirement already satisfied: cycler>=0.10 in /opt/conda/lib/python3.10/site-packages (from matplotlib->wordcloud) (0.11.0)\n",
      "Requirement already satisfied: pyparsing>=2.2.1 in /opt/conda/lib/python3.10/site-packages (from matplotlib->wordcloud) (3.0.9)\n",
      "Requirement already satisfied: fonttools>=4.22.0 in /opt/conda/lib/python3.10/site-packages (from matplotlib->wordcloud) (4.33.3)\n",
      "Requirement already satisfied: python-dateutil>=2.7 in /opt/conda/lib/python3.10/site-packages (from matplotlib->wordcloud) (2.8.2)\n",
      "Requirement already satisfied: six>=1.5 in /opt/conda/lib/python3.10/site-packages (from python-dateutil>=2.7->matplotlib->wordcloud) (1.16.0)\n"
     ]
    }
   ],
   "source": [
    "!pip install wordcloud"
   ]
  },
  {
   "cell_type": "code",
   "execution_count": 7,
   "metadata": {
    "colab": {
     "base_uri": "https://localhost:8080/",
     "height": 219
    },
    "executionInfo": {
     "elapsed": 9854,
     "status": "ok",
     "timestamp": 1658669406338,
     "user": {
      "displayName": "Lâm Đỗ",
      "userId": "18103864874454458300"
     },
     "user_tz": -420
    },
    "id": "I8_2mk4DYOxF",
    "outputId": "978e2a3e-11da-4220-e8d3-0ee7a6c995f0"
   },
   "outputs": [],
   "source": [
    "from pyspark import SparkConf, SparkContext\n",
    "from pyspark.sql import SparkSession, SQLContext\n",
    "\n",
    "from pyspark.sql.types import *\n",
    "import pyspark.sql.functions as F\n",
    "from pyspark.sql.functions import udf, col\n",
    "\n",
    "from pyspark.ml.regression import LinearRegression\n",
    "from pyspark.mllib.evaluation import RegressionMetrics\n",
    "\n",
    "from pyspark.ml.tuning import ParamGridBuilder, CrossValidator, CrossValidatorModel\n",
    "from pyspark.ml.feature import VectorAssembler, StandardScaler\n",
    "from pyspark.ml.evaluation import RegressionEvaluator"
   ]
  },
  {
   "cell_type": "code",
   "execution_count": 8,
   "metadata": {
    "executionInfo": {
     "elapsed": 272,
     "status": "ok",
     "timestamp": 1658669910583,
     "user": {
      "displayName": "Lâm Đỗ",
      "userId": "18103864874454458300"
     },
     "user_tz": -420
    },
    "id": "L4DKbUhlkqgA"
   },
   "outputs": [],
   "source": [
    "#!/usr/bin/python\n",
    "# -*- coding: utf-8 -*-\n",
    "from pyspark import SparkContext\n",
    "from pyspark.streaming import StreamingContext\n",
    "from pyspark.sql import SparkSession\n",
    "from pyspark.sql import functions as func\n",
    "\n",
    "spark = SparkSession.builder\\\n",
    "        .master(\"local\")\\\n",
    "        .appName(\"Model\")\\\n",
    "        .config('spark-master', '7077')\\\n",
    "        .config(\"spark.cleaner.referenceTracking.cleanCheckpoints\", \"true\")\\\n",
    "        .getOrCreate()"
   ]
  },
  {
   "cell_type": "code",
   "execution_count": 9,
   "metadata": {
    "executionInfo": {
     "elapsed": 9089,
     "status": "ok",
     "timestamp": 1658669415420,
     "user": {
      "displayName": "Lâm Đỗ",
      "userId": "18103864874454458300"
     },
     "user_tz": -420
    },
    "id": "2RqpLsDgZRpM"
   },
   "outputs": [],
   "source": [
    "from functools import reduce\n",
    "from pyspark.sql import DataFrame\n",
    "\n",
    "parquetFile = spark.read.parquet(\"hdfs://namenode:9000/hadoop/dfs/data/review/\") \n",
    "parquetFile.createOrReplaceTempView(\"tiki_review_data\")"
   ]
  },
  {
   "cell_type": "code",
   "execution_count": 12,
   "metadata": {
    "executionInfo": {
     "elapsed": 980,
     "status": "ok",
     "timestamp": 1658669416358,
     "user": {
      "displayName": "Lâm Đỗ",
      "userId": "18103864874454458300"
     },
     "user_tz": -420
    },
    "id": "niILx9cWZURS"
   },
   "outputs": [],
   "source": [
    "parquetFile = spark.read.parquet(\"hdfs://namenode:9000/hadoop/dfs/data/item/\") \n",
    "parquetFile.createOrReplaceTempView(\"tiki_item_data\")"
   ]
  },
  {
   "cell_type": "markdown",
   "metadata": {
    "id": "g_CxcOfmZmFh"
   },
   "source": [
    "# EDA cho review data"
   ]
  },
  {
   "cell_type": "code",
   "execution_count": 13,
   "metadata": {
    "executionInfo": {
     "elapsed": 295,
     "status": "ok",
     "timestamp": 1658669416647,
     "user": {
      "displayName": "Lâm Đỗ",
      "userId": "18103864874454458300"
     },
     "user_tz": -420
    },
    "id": "NXh13P0na-Q9"
   },
   "outputs": [],
   "source": [
    "review_df = spark.sql(\"\"\"\n",
    "SELECT * FROM tiki_review_data\n",
    "\"\"\")"
   ]
  },
  {
   "cell_type": "code",
   "execution_count": 17,
   "metadata": {},
   "outputs": [],
   "source": [
    "import matplotlib.pyplot as plt"
   ]
  },
  {
   "cell_type": "code",
   "execution_count": 18,
   "metadata": {
    "colab": {
     "base_uri": "https://localhost:8080/",
     "height": 520
    },
    "executionInfo": {
     "elapsed": 5759,
     "status": "ok",
     "timestamp": 1658669423070,
     "user": {
      "displayName": "Lâm Đỗ",
      "userId": "18103864874454458300"
     },
     "user_tz": -420
    },
    "id": "vFfx90irmF2b",
    "outputId": "5906b26f-5023-49a9-c4d3-2eb0bbdb6b08"
   },
   "outputs": [
    {
     "data": {
      "text/plain": [
       "DataFrame[review: string, __index_level_0__: bigint, rating: int]"
      ]
     },
     "execution_count": 18,
     "metadata": {},
     "output_type": "execute_result"
    }
   ],
   "source": [
    "review_df"
   ]
  },
  {
   "cell_type": "code",
   "execution_count": 19,
   "metadata": {
    "colab": {
     "base_uri": "https://localhost:8080/",
     "height": 276
    },
    "executionInfo": {
     "elapsed": 1808,
     "status": "ok",
     "timestamp": 1658669424864,
     "user": {
      "displayName": "Lâm Đỗ",
      "userId": "18103864874454458300"
     },
     "user_tz": -420
    },
    "id": "JW3WmTcUbWCz",
    "outputId": "43ce6ae3-7f11-4f72-a6ef-b6de38c22598"
   },
   "outputs": [
    {
     "data": {
      "image/png": "[encoded data removed]",
      "text/plain": [
       "<Figure size 432x288 with 1 Axes>"
      ]
     },
     "metadata": {
      "needs_background": "light"
     },
     "output_type": "display_data"
    }
   ],
   "source": [
    "fig,ax = plt.subplots()\n",
    "review_df.toPandas()[\"rating\"].value_counts().sort_index().plot(ax = ax, kind = 'bar', ylabel = 'frequency', xlabel = \"rating\")\n",
    "fig.show()"
   ]
  },
  {
   "cell_type": "code",
   "execution_count": 20,
   "metadata": {
    "colab": {
     "base_uri": "https://localhost:8080/",
     "height": 607
    },
    "executionInfo": {
     "elapsed": 8931,
     "status": "ok",
     "timestamp": 1658669433783,
     "user": {
      "displayName": "Lâm Đỗ",
      "userId": "18103864874454458300"
     },
     "user_tz": -420
    },
    "id": "46F8mtgqlkw3",
    "outputId": "e87ba194-9d6d-4869-8c7e-ebdde81438ef"
   },
   "outputs": [
    {
     "ename": "NameError",
     "evalue": "name 'STOPWORDS' is not defined",
     "output_type": "error",
     "traceback": [
      "\u001b[0;31m---------------------------------------------------------------------------\u001b[0m",
      "\u001b[0;31mNameError\u001b[0m                                 Traceback (most recent call last)",
      "Input \u001b[0;32mIn [20]\u001b[0m, in \u001b[0;36m<cell line: 2>\u001b[0;34m()\u001b[0m\n\u001b[1;32m      1\u001b[0m comment_words \u001b[38;5;241m=\u001b[39m \u001b[38;5;124m'\u001b[39m\u001b[38;5;124m'\u001b[39m\n\u001b[0;32m----> 2\u001b[0m stopwords \u001b[38;5;241m=\u001b[39m \u001b[38;5;28mset\u001b[39m(\u001b[43mSTOPWORDS\u001b[49m)\n\u001b[1;32m      4\u001b[0m \u001b[38;5;28;01mfor\u001b[39;00m index, row \u001b[38;5;129;01min\u001b[39;00m review_df\u001b[38;5;241m.\u001b[39mtoPandas()\u001b[38;5;241m.\u001b[39miterrows():\n\u001b[1;32m      5\u001b[0m     review \u001b[38;5;241m=\u001b[39m \u001b[38;5;28mstr\u001b[39m(row[\u001b[38;5;124m\"\u001b[39m\u001b[38;5;124mreview\u001b[39m\u001b[38;5;124m\"\u001b[39m])\n",
      "\u001b[0;31mNameError\u001b[0m: name 'STOPWORDS' is not defined"
     ]
    }
   ],
   "source": [
    "comment_words = ''\n",
    "stopwords = set(STOPWORDS)\n",
    " \n",
    "for index, row in review_df.toPandas().iterrows():\n",
    "    review = str(row[\"review\"])\n",
    "    rating = int(row[\"rating\"])\n",
    "    if rating != 1: continue\n",
    " \n",
    "    tokens = review.split(\" \")\n",
    "     \n",
    "    for i in range(len(tokens)):\n",
    "        tokens[i] = tokens[i].lower()\n",
    "     \n",
    "    comment_words += \" \".join(tokens)+\" \"\n",
    " \n",
    "wordcloud = WordCloud(width = 800, height = 800,\n",
    "                background_color ='white',\n",
    "                stopwords = stopwords,\n",
    "                min_font_size = 10).generate(comment_words)\n",
    "                   \n",
    "plt.figure(figsize = (8, 8), facecolor = None)\n",
    "plt.imshow(wordcloud)\n",
    "plt.axis(\"off\")\n",
    "plt.tight_layout(pad = 0)\n",
    " \n",
    "plt.show()"
   ]
  },
  {
   "cell_type": "markdown",
   "metadata": {
    "id": "7OjwZP3IZi5I"
   },
   "source": [
    "# EDA cho item data"
   ]
  },
  {
   "cell_type": "code",
   "execution_count": null,
   "metadata": {
    "executionInfo": {
     "elapsed": 464,
     "status": "ok",
     "timestamp": 1658669700980,
     "user": {
      "displayName": "Lâm Đỗ",
      "userId": "18103864874454458300"
     },
     "user_tz": -420
    },
    "id": "JRCWQxNFmKIB"
   },
   "outputs": [],
   "source": [
    "item_df = spark.sql(\"\"\"\n",
    "SELECT * FROM tiki_item_data\n",
    "\"\"\")\n",
    "\n",
    "# fillna\n",
    "item_df = item_df.fillna(\"no information\", subset = [\"item\", \"seller\", \"category\", \"brand\"])\n",
    "item_df = item_df.fillna(0, subset = [\"rating_value\", \"review_count\"])\n",
    "item_df = item_df.dropna(subset = [\"price\"])"
   ]
  },
  {
   "cell_type": "code",
   "execution_count": null,
   "metadata": {
    "colab": {
     "base_uri": "https://localhost:8080/"
    },
    "executionInfo": {
     "elapsed": 468,
     "status": "ok",
     "timestamp": 1658669714381,
     "user": {
      "displayName": "Lâm Đỗ",
      "userId": "18103864874454458300"
     },
     "user_tz": -420
    },
    "id": "jlIpjUVLZvMG",
    "outputId": "a92d4c5a-fed6-4c75-875d-a03b3fb59a7b"
   },
   "outputs": [],
   "source": [
    "item_df.show()"
   ]
  },
  {
   "cell_type": "markdown",
   "metadata": {
    "id": "jKhsnhBHa9pc"
   },
   "source": [
    "## Các loại sản phẩm phổ biến nhất"
   ]
  },
  {
   "cell_type": "code",
   "execution_count": null,
   "metadata": {
    "colab": {
     "base_uri": "https://localhost:8080/",
     "height": 361
    },
    "executionInfo": {
     "elapsed": 801,
     "status": "ok",
     "timestamp": 1658669823334,
     "user": {
      "displayName": "Lâm Đỗ",
      "userId": "18103864874454458300"
     },
     "user_tz": -420
    },
    "id": "gK6h0a7OZwQZ",
    "outputId": "13d362c8-3ef3-4e69-91b9-0e6ada2b5956"
   },
   "outputs": [],
   "source": [
    "fig,ax = plt.subplots()\n",
    "item_df.toPandas()[\"category\"].value_counts()[:5].plot(ax = ax, kind = 'bar', ylabel = 'frequency', xlabel = \"Loại sản phẩm\")\n",
    "fig.show()"
   ]
  },
  {
   "cell_type": "markdown",
   "metadata": {
    "id": "jCBUa5jZbSi8"
   },
   "source": [
    "## Giá trị trung bình theo category"
   ]
  },
  {
   "cell_type": "code",
   "execution_count": null,
   "metadata": {
    "colab": {
     "base_uri": "https://localhost:8080/",
     "height": 372
    },
    "executionInfo": {
     "elapsed": 3411,
     "status": "ok",
     "timestamp": 1658670181092,
     "user": {
      "displayName": "Lâm Đỗ",
      "userId": "18103864874454458300"
     },
     "user_tz": -420
    },
    "id": "N_nGV-I6bBSZ",
    "outputId": "bc644ea5-1150-40ff-a7c2-a3bd9c6b5075"
   },
   "outputs": [],
   "source": [
    "fig,ax = plt.subplots()\n",
    "\n",
    "average_price_by_category = item_df.groupBy(\"category\").agg(F.mean(\"price\").alias(\"average_price\")).orderBy(\"average_price\", ascending = False)\n",
    "average_price_by_category.toPandas().set_index(\"category\").plot(ax = ax, kind = 'bar', ylabel = 'Giá trị trung bình', xlabel = \"Loại sản phẩm\")\n",
    "\n",
    "fig.show()"
   ]
  },
  {
   "cell_type": "markdown",
   "metadata": {
    "id": "h45MfNxzcprw"
   },
   "source": [
    "## Lượng review theo brand -> có thể tìm ra brand nào nhận được nhiều review nhất"
   ]
  },
  {
   "cell_type": "code",
   "execution_count": null,
   "metadata": {
    "colab": {
     "base_uri": "https://localhost:8080/",
     "height": 332
    },
    "executionInfo": {
     "elapsed": 3050,
     "status": "ok",
     "timestamp": 1658670578088,
     "user": {
      "displayName": "Lâm Đỗ",
      "userId": "18103864874454458300"
     },
     "user_tz": -420
    },
    "id": "0mauYGwncKDr",
    "outputId": "9acef86a-3421-4833-ba92-7ed0bf5fb2b9"
   },
   "outputs": [],
   "source": [
    "fig,ax = plt.subplots()\n",
    "\n",
    "review_numbers_by_brand = item_df.groupBy(\"brand\").agg(F.sum(\"review_count\").alias(\"total_review_count\"))\\\n",
    ".orderBy(\"total_review_count\", ascending = False)\n",
    "review_numbers_by_brand.toPandas()[:10].set_index(\"brand\").plot(ax = ax, kind = 'bar', ylabel = 'Tổng số review', xlabel = \"Tên hãng\")\n",
    "\n",
    "fig.show()"
   ]
  },
  {
   "cell_type": "markdown",
   "metadata": {
    "id": "E2vWsvLieRUc"
   },
   "source": [
    "## Giá trị sản phẩm trung bình theo brand -> có thể nhìn ra brand nào bán đồ rẻ nhất"
   ]
  },
  {
   "cell_type": "code",
   "execution_count": null,
   "metadata": {
    "colab": {
     "base_uri": "https://localhost:8080/",
     "height": 369
    },
    "executionInfo": {
     "elapsed": 4070,
     "status": "ok",
     "timestamp": 1658670704900,
     "user": {
      "displayName": "Lâm Đỗ",
      "userId": "18103864874454458300"
     },
     "user_tz": -420
    },
    "id": "bVKTZY7ud6Rn",
    "outputId": "2998f964-c0ba-4b0d-92a0-034678700efe"
   },
   "outputs": [],
   "source": [
    "fig,ax = plt.subplots()\n",
    "\n",
    "average_price_by_brand = item_df.groupBy(\"brand\").agg(F.mean(\"price\").alias(\"average_price\"))\\\n",
    ".orderBy(\"average_price\", ascending = True)\n",
    "average_price_by_brand.toPandas()[:10].set_index(\"brand\").plot(ax = ax, kind = 'bar', ylabel = 'Giá trị trung bình sản phẩm', xlabel = \"Tên hãng\")\n",
    "\n",
    "fig.show()"
   ]
  },
  {
   "cell_type": "code",
   "execution_count": null,
   "metadata": {
    "id": "k_KT-ii3elZV"
   },
   "outputs": [],
   "source": []
  }
 ],
 "metadata": {
  "colab": {
   "authorship_tag": "ABX9TyP7K9HQ1Eddv4l+/Zou2pTi",
   "mount_file_id": "1JRH_xsOfGmV-1ffPia2vcCj-XlWHp4Pf",
   "name": "EDA.ipynb",
   "provenance": []
  },
  "kernelspec": {
   "display_name": "Python 3 (ipykernel)",
   "language": "python",
   "name": "python3"
  },
  "language_info": {
   "codemirror_mode": {
    "name": "ipython",
    "version": 3
   },
   "file_extension": ".py",
   "mimetype": "text/x-python",
   "name": "python",
   "nbconvert_exporter": "python",
   "pygments_lexer": "ipython3",
   "version": "3.10.5"
  }
 },
 "nbformat": 4,
 "nbformat_minor": 4
}
