{
 "cells": [
  {
   "cell_type": "code",
   "execution_count": 1,
   "metadata": {},
   "outputs": [],
   "source": [
    "from pyspark import SparkConf, SparkContext\n",
    "from pyspark.sql import SparkSession, SQLContext\n",
    "\n",
    "from pyspark.sql.types import *\n",
    "import pyspark.sql.functions as F\n",
    "from pyspark.sql.functions import udf, col\n",
    "\n",
    "from pyspark.ml.regression import LinearRegression\n",
    "from pyspark.mllib.evaluation import RegressionMetrics\n",
    "\n",
    "from pyspark.ml.tuning import ParamGridBuilder, CrossValidator, CrossValidatorModel\n",
    "from pyspark.ml.feature import VectorAssembler, StandardScaler\n",
    "from pyspark.ml.evaluation import RegressionEvaluator"
   ]
  },
  {
   "cell_type": "code",
   "execution_count": 2,
   "metadata": {
    "colab": {
     "base_uri": "https://localhost:8080/",
     "height": 219
    },
    "executionInfo": {
     "elapsed": 8419,
     "status": "ok",
     "timestamp": 1658671678295,
     "user": {
      "displayName": "Lâm Đỗ",
      "userId": "18103864874454458300"
     },
     "user_tz": -420
    },
    "id": "V73PV_DA4hbJ",
    "outputId": "5afd36bb-1d75-4e20-e61e-fd37e8e3e0d8"
   },
   "outputs": [],
   "source": [
    "#!/usr/bin/python\n",
    "# -*- coding: utf-8 -*-\n",
    "from pyspark import SparkContext\n",
    "from pyspark.streaming import StreamingContext\n",
    "from pyspark.sql import SparkSession\n",
    "from pyspark.sql import functions as func\n",
    "\n",
    "spark = SparkSession.builder\\\n",
    "        .master(\"spark://172.18.0.1:7077\")\\\n",
    "        .appName(\"Model\")\\\n",
    "        .config('spark-master', '7077')\\\n",
    "        .config(\"spark.cleaner.referenceTracking.cleanCheckpoints\", \"true\")\\\n",
    "        .getOrCreate()"
   ]
  },
  {
   "cell_type": "code",
   "execution_count": null,
   "metadata": {},
   "outputs": [],
   "source": [
    "from functools import reduce\n",
    "from pyspark.sql import DataFrame\n",
    "\n",
    "parquetFile = spark.read.parquet(\"hdfs://namenode:9000/hadoop/dfs/data/review/\") \n",
    "parquetFile.createOrReplaceTempView(\"tiki_review_data\")"
   ]
  },
  {
   "cell_type": "code",
   "execution_count": null,
   "metadata": {},
   "outputs": [],
   "source": [
    "parquetFile = spark.read.parquet(\"hdfs://namenode:9000/hadoop/dfs/data/item/\") \n",
    "parquetFile.createOrReplaceTempView(\"tiki_item_data\")"
   ]
  },
  {
   "cell_type": "code",
   "execution_count": null,
   "metadata": {
    "executionInfo": {
     "elapsed": 3,
     "status": "ok",
     "timestamp": 1658672302946,
     "user": {
      "displayName": "Lâm Đỗ",
      "userId": "18103864874454458300"
     },
     "user_tz": -420
    },
    "id": "a59rXCg94kMv"
   },
   "outputs": [],
   "source": [
    "from pyspark.ml.feature import Word2Vec, Tokenizer, VectorIndexer, VectorAssembler, StringIndexer\n",
    "from pyspark.ml import Pipeline\n",
    "from pyspark.sql import functions as F"
   ]
  },
  {
   "cell_type": "markdown",
   "metadata": {
    "id": "8vpf2xcGfqsP"
   },
   "source": [
    "# Task dự đoán rating từ comment"
   ]
  },
  {
   "cell_type": "code",
   "execution_count": null,
   "metadata": {
    "executionInfo": {
     "elapsed": 2,
     "status": "ok",
     "timestamp": 1658671742705,
     "user": {
      "displayName": "Lâm Đỗ",
      "userId": "18103864874454458300"
     },
     "user_tz": -420
    },
    "id": "lpAAHgpj5Tjo"
   },
   "outputs": [],
   "source": [
    "review_df = spark.sql(\"\"\"\n",
    "SELECT * FROM tiki_review_data\n",
    "\"\"\")"
   ]
  },
  {
   "cell_type": "code",
   "execution_count": null,
   "metadata": {},
   "outputs": [],
   "source": [
    "review_df = review_df.limit(10000)"
   ]
  },
  {
   "cell_type": "code",
   "execution_count": null,
   "metadata": {},
   "outputs": [],
   "source": [
    "review_df.show(5)"
   ]
  },
  {
   "cell_type": "code",
   "execution_count": null,
   "metadata": {
    "executionInfo": {
     "elapsed": 517,
     "status": "ok",
     "timestamp": 1658671745955,
     "user": {
      "displayName": "Lâm Đỗ",
      "userId": "18103864874454458300"
     },
     "user_tz": -420
    },
    "id": "K7g0-_bx5e3t"
   },
   "outputs": [],
   "source": [
    "tokenizer = Tokenizer(inputCol = \"review\", outputCol = \"review_tokenized\")\n",
    "word2vec_model = Word2Vec(vectorSize=5, seed=42, inputCol=\"review_tokenized\", outputCol=\"embedding\")"
   ]
  },
  {
   "cell_type": "code",
   "execution_count": null,
   "metadata": {
    "executionInfo": {
     "elapsed": 2,
     "status": "ok",
     "timestamp": 1658671746727,
     "user": {
      "displayName": "Lâm Đỗ",
      "userId": "18103864874454458300"
     },
     "user_tz": -420
    },
    "id": "-e9zYui25zYF"
   },
   "outputs": [],
   "source": [
    "pipeline = Pipeline(stages = [tokenizer, word2vec_model])"
   ]
  },
  {
   "cell_type": "code",
   "execution_count": null,
   "metadata": {
    "executionInfo": {
     "elapsed": 11038,
     "status": "ok",
     "timestamp": 1658671767984,
     "user": {
      "displayName": "Lâm Đỗ",
      "userId": "18103864874454458300"
     },
     "user_tz": -420
    },
    "id": "oxMBoYVc5AiD"
   },
   "outputs": [],
   "source": [
    "pipeline_model = pipeline.fit(review_df)"
   ]
  },
  {
   "cell_type": "code",
   "execution_count": null,
   "metadata": {
    "executionInfo": {
     "elapsed": 331,
     "status": "ok",
     "timestamp": 1658671768310,
     "user": {
      "displayName": "Lâm Đỗ",
      "userId": "18103864874454458300"
     },
     "user_tz": -420
    },
    "id": "Bbut7CtM5XSf"
   },
   "outputs": [],
   "source": [
    "features_labels = pipeline_model.transform(review_df)"
   ]
  },
  {
   "cell_type": "code",
   "execution_count": null,
   "metadata": {
    "executionInfo": {
     "elapsed": 3,
     "status": "ok",
     "timestamp": 1658671768311,
     "user": {
      "displayName": "Lâm Đỗ",
      "userId": "18103864874454458300"
     },
     "user_tz": -420
    },
    "id": "Jc4jmo836NRw"
   },
   "outputs": [],
   "source": [
    "from pyspark.ml.regression import LinearRegression, RandomForestRegressor"
   ]
  },
  {
   "cell_type": "code",
   "execution_count": null,
   "metadata": {
    "executionInfo": {
     "elapsed": 3165,
     "status": "ok",
     "timestamp": 1658671771474,
     "user": {
      "displayName": "Lâm Đỗ",
      "userId": "18103864874454458300"
     },
     "user_tz": -420
    },
    "id": "Rgz9_td46zMz"
   },
   "outputs": [],
   "source": [
    "lr = LinearRegression(featuresCol = 'embedding', labelCol = 'rating')\n",
    "lr_model = lr.fit(features_labels)"
   ]
  },
  {
   "cell_type": "code",
   "execution_count": null,
   "metadata": {
    "colab": {
     "base_uri": "https://localhost:8080/",
     "height": 520
    },
    "executionInfo": {
     "elapsed": 919,
     "status": "ok",
     "timestamp": 1658671772389,
     "user": {
      "displayName": "Lâm Đỗ",
      "userId": "18103864874454458300"
     },
     "user_tz": -420
    },
    "id": "ch5VFyzA7BH9",
    "outputId": "3a7b98b1-dd2c-4c4c-dc39-8c2d79062c62"
   },
   "outputs": [],
   "source": [
    "lr_model.transform(features_labels)"
   ]
  },
  {
   "cell_type": "markdown",
   "metadata": {
    "id": "rHV6bLl-fuzM"
   },
   "source": [
    "# Task dự đoán giá trị sản phẩm"
   ]
  },
  {
   "cell_type": "code",
   "execution_count": null,
   "metadata": {
    "executionInfo": {
     "elapsed": 485,
     "status": "ok",
     "timestamp": 1658672754701,
     "user": {
      "displayName": "Lâm Đỗ",
      "userId": "18103864874454458300"
     },
     "user_tz": -420
    },
    "id": "BIweg4tF7Gfy"
   },
   "outputs": [],
   "source": [
    "item_df = spark.sql(\"\"\"\n",
    "SELECT * FROM tiki_item_data\n",
    "\"\"\")\n",
    "\n",
    "# fillna\n",
    "item_df = item_df.fillna(\"no information\", subset = [\"item\", \"seller\", \"category\", \"brand\"])\n",
    "item_df = item_df.fillna(0, subset = [\"rating_value\", \"review_count\"])\n",
    "item_df = item_df.dropna(subset = [\"price\"]).drop(\"rating_value\")\n",
    "\n",
    "item_df = item_df.withColumn(\"review_count\", F.col(\"review_count\").cast(\"float\"))"
   ]
  },
  {
   "cell_type": "code",
   "execution_count": null,
   "metadata": {
    "executionInfo": {
     "elapsed": 939,
     "status": "ok",
     "timestamp": 1658672755630,
     "user": {
      "displayName": "Lâm Đỗ",
      "userId": "18103864874454458300"
     },
     "user_tz": -420
    },
    "id": "kZ2Zs8JWi53p"
   },
   "outputs": [],
   "source": [
    "tokenizer = Tokenizer(inputCol = \"item\", outputCol = \"item_description_tokenized\")\n",
    "word2vec_model = Word2Vec(vectorSize=5, seed=42, inputCol=\"item_description_tokenized\", outputCol=\"item_description_emb\")\n",
    "\n",
    "pipeline = Pipeline(stages = [tokenizer, word2vec_model])\n",
    "pipeline_model = pipeline.fit(item_df)\n",
    "\n",
    "item_df = pipeline_model.transform(item_df)"
   ]
  },
  {
   "cell_type": "code",
   "execution_count": null,
   "metadata": {
    "executionInfo": {
     "elapsed": 483,
     "status": "ok",
     "timestamp": 1658672756106,
     "user": {
      "displayName": "Lâm Đỗ",
      "userId": "18103864874454458300"
     },
     "user_tz": -420
    },
    "id": "98Nu39lNj2EP"
   },
   "outputs": [],
   "source": [
    "string_indexers = [StringIndexer(inputCol = inputCol, outputCol = inputCol + \"_indexed\") for inputCol in [\"brand\", \"seller\", \"category\"]]\n",
    "pipeline = Pipeline(stages=string_indexers)\n",
    "item_df = pipeline.fit(item_df).transform(item_df)"
   ]
  },
  {
   "cell_type": "code",
   "execution_count": null,
   "metadata": {
    "colab": {
     "base_uri": "https://localhost:8080/",
     "height": 1000
    },
    "executionInfo": {
     "elapsed": 1057,
     "status": "ok",
     "timestamp": 1658672757160,
     "user": {
      "displayName": "Lâm Đỗ",
      "userId": "18103864874454458300"
     },
     "user_tz": -420
    },
    "id": "ErnynIJKgG3v",
    "outputId": "dde71e46-d1a1-4a13-acc5-9d567bb92dc3"
   },
   "outputs": [],
   "source": [
    "assembler = VectorAssembler(\n",
    "    inputCols=[\"brand_indexed\", \"review_count\", \"item_description_emb\", \"seller_indexed\", \"category_indexed\"],\n",
    "    outputCol=\"features\")\n",
    "\n",
    "item_df = assembler.transform(item_df)\n",
    "item_df"
   ]
  },
  {
   "cell_type": "code",
   "execution_count": null,
   "metadata": {
    "executionInfo": {
     "elapsed": 1994,
     "status": "ok",
     "timestamp": 1658672876329,
     "user": {
      "displayName": "Lâm Đỗ",
      "userId": "18103864874454458300"
     },
     "user_tz": -420
    },
    "id": "IOY2Ew86jLlU"
   },
   "outputs": [],
   "source": [
    "featureIndexer =\\\n",
    "    VectorIndexer(inputCol=\"features\", outputCol=\"indexedFeatures\", maxCategories=40).fit(item_df)\n",
    "\n",
    "# Split the data into training and test sets (30% held out for testing)\n",
    "(trainingData, testData) = item_df.randomSplit([0.7, 0.3])\n",
    "\n",
    "# Train a RandomForest model.\n",
    "rf = RandomForestRegressor(featuresCol=\"indexedFeatures\", labelCol = \"price\", maxBins = 1000)\n",
    "\n",
    "# Chain indexer and forest in a Pipeline\n",
    "pipeline = Pipeline(stages=[featureIndexer, rf])\n",
    "\n",
    "# Train model.  This also runs the indexer.\n",
    "model = pipeline.fit(trainingData)"
   ]
  },
  {
   "cell_type": "code",
   "execution_count": null,
   "metadata": {
    "colab": {
     "base_uri": "https://localhost:8080/",
     "height": 520
    },
    "executionInfo": {
     "elapsed": 494,
     "status": "ok",
     "timestamp": 1658672929877,
     "user": {
      "displayName": "Lâm Đỗ",
      "userId": "18103864874454458300"
     },
     "user_tz": -420
    },
    "id": "_bemfbXFk_fm",
    "outputId": "54cab9c6-2957-4731-af4c-c06bc8ee5adb"
   },
   "outputs": [],
   "source": [
    "model.transform(testData).select(\"price\", \"prediction\")"
   ]
  }
 ],
 "metadata": {
  "colab": {
   "authorship_tag": "ABX9TyPS6f51e99ivrS59vg1WTsh",
   "mount_file_id": "1uae0K2TYqZwxdp3jL2oVgQ2TukWC_wdP",
   "name": "Modeling.ipynb",
   "provenance": []
  },
  "kernelspec": {
   "display_name": "Python 3 (ipykernel)",
   "language": "python",
   "name": "python3"
  },
  "language_info": {
   "codemirror_mode": {
    "name": "ipython",
    "version": 3
   },
   "file_extension": ".py",
   "mimetype": "text/x-python",
   "name": "python",
   "nbconvert_exporter": "python",
   "pygments_lexer": "ipython3",
   "version": "3.10.5"
  }
 },
 "nbformat": 4,
 "nbformat_minor": 4
}
